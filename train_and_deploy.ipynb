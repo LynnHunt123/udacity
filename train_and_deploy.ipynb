{
 "cells": [
  {
   "cell_type": "markdown",
   "metadata": {},
   "source": [
    "# TODO: Title\n",
    "\n",
    "This notebook lists all the steps that you need to complete the complete this project. You will need to complete all the TODOs in this notebook as well as in the README and the two python scripts included with the starter code.\n",
    "\n",
    "\n",
    "**TODO**: Give a helpful introduction to what this notebook is for. Remember that comments, explanations and good documentation make your project informative and professional.\n",
    "\n",
    "**Note:** This notebook has a bunch of code and markdown cells with TODOs that you have to complete. These are meant to be helpful guidelines for you to finish your project while meeting the requirements in the project rubrics. Feel free to change the order of these the TODO's and use more than one TODO code cell to do all your tasks."
   ]
  },
  {
   "cell_type": "code",
   "execution_count": 53,
   "metadata": {
    "scrolled": true
   },
   "outputs": [
    {
     "name": "stdout",
     "output_type": "stream",
     "text": [
      "Requirement already satisfied: smdebug in /home/ec2-user/anaconda3/envs/pytorch_latest_p36/lib/python3.6/site-packages (1.0.12)\n",
      "Requirement already satisfied: numpy>=1.16.0 in /home/ec2-user/anaconda3/envs/pytorch_latest_p36/lib/python3.6/site-packages (from smdebug) (1.19.2)\n",
      "Requirement already satisfied: pyinstrument==3.4.2 in /home/ec2-user/anaconda3/envs/pytorch_latest_p36/lib/python3.6/site-packages (from smdebug) (3.4.2)\n",
      "Requirement already satisfied: packaging in /home/ec2-user/anaconda3/envs/pytorch_latest_p36/lib/python3.6/site-packages (from smdebug) (21.3)\n",
      "Requirement already satisfied: boto3>=1.10.32 in /home/ec2-user/anaconda3/envs/pytorch_latest_p36/lib/python3.6/site-packages (from smdebug) (1.20.25)\n",
      "Requirement already satisfied: protobuf>=3.6.0 in /home/ec2-user/anaconda3/envs/pytorch_latest_p36/lib/python3.6/site-packages (from smdebug) (3.19.1)\n",
      "Requirement already satisfied: pyinstrument-cext>=0.2.2 in /home/ec2-user/anaconda3/envs/pytorch_latest_p36/lib/python3.6/site-packages (from pyinstrument==3.4.2->smdebug) (0.2.4)\n",
      "Requirement already satisfied: s3transfer<0.6.0,>=0.5.0 in /home/ec2-user/anaconda3/envs/pytorch_latest_p36/lib/python3.6/site-packages (from boto3>=1.10.32->smdebug) (0.5.0)\n",
      "Requirement already satisfied: jmespath<1.0.0,>=0.7.1 in /home/ec2-user/anaconda3/envs/pytorch_latest_p36/lib/python3.6/site-packages (from boto3>=1.10.32->smdebug) (0.10.0)\n",
      "Requirement already satisfied: botocore<1.24.0,>=1.23.25 in /home/ec2-user/anaconda3/envs/pytorch_latest_p36/lib/python3.6/site-packages (from boto3>=1.10.32->smdebug) (1.23.25)\n",
      "Requirement already satisfied: pyparsing!=3.0.5,>=2.0.2 in /home/ec2-user/anaconda3/envs/pytorch_latest_p36/lib/python3.6/site-packages (from packaging->smdebug) (2.4.7)\n",
      "Requirement already satisfied: urllib3<1.27,>=1.25.4 in /home/ec2-user/anaconda3/envs/pytorch_latest_p36/lib/python3.6/site-packages (from botocore<1.24.0,>=1.23.25->boto3>=1.10.32->smdebug) (1.26.7)\n",
      "Requirement already satisfied: python-dateutil<3.0.0,>=2.1 in /home/ec2-user/anaconda3/envs/pytorch_latest_p36/lib/python3.6/site-packages (from botocore<1.24.0,>=1.23.25->boto3>=1.10.32->smdebug) (2.8.1)\n",
      "Requirement already satisfied: six>=1.5 in /home/ec2-user/anaconda3/envs/pytorch_latest_p36/lib/python3.6/site-packages (from python-dateutil<3.0.0,>=2.1->botocore<1.24.0,>=1.23.25->boto3>=1.10.32->smdebug) (1.15.0)\n"
     ]
    }
   ],
   "source": [
    "# TODO: Install any packages that you might need\n",
    "# For instance, you will need the smdebug package\n",
    "!pip install smdebug "
   ]
  },
  {
   "cell_type": "code",
   "execution_count": 2,
   "metadata": {},
   "outputs": [],
   "source": [
    "# TODO: Import any packages that you might need\n",
    "# For instance you will need Boto3 and Sagemaker\n",
    "import sagemaker\n",
    "import boto3\n",
    "from sagemaker.tuner import CategoricalParameter, ContinuousParameter, HyperparameterTuner\n",
    "from sagemaker.pytorch import PyTorch\n",
    "from sagemaker import get_execution_role\n",
    "from sagemaker.debugger import Rule, DebuggerHookConfig, TensorBoardOutputConfig, CollectionConfig, ProfilerRule, rule_configs\n",
    "from sagemaker.debugger import ProfilerConfig, FrameworkProfile\n",
    "import os"
   ]
  },
  {
   "cell_type": "markdown",
   "metadata": {},
   "source": [
    "## Dataset\n",
    "TODO: Explain what dataset you are using for this project. Maybe even give a small overview of the classes, class distributions etc that can help anyone not familiar with the dataset get a better understand of it."
   ]
  },
  {
   "cell_type": "code",
   "execution_count": 11,
   "metadata": {},
   "outputs": [],
   "source": [
    "#TODO: Fetch and upload the data to AWS S3\n",
    "\n",
    "# Command to download and unzip data\n",
    "# !wget https://s3-us-west-1.amazonaws.com/udacity-aind/dog-project/dogImages.zip\n",
    "# !unzip dogImages.zip"
   ]
  },
  {
   "cell_type": "markdown",
   "metadata": {},
   "source": [
    "## Hyperparameter Tuning\n",
    "**TODO:** This is the part where you will finetune a pretrained model with hyperparameter tuning. Remember that you have to tune a minimum of two hyperparameters. However you are encouraged to tune more. You are also encouraged to explain why you chose to tune those particular hyperparameters and the ranges.\n",
    "\n",
    "**Note:** You will need to use the `hpo.py` script to perform hyperparameter tuning."
   ]
  },
  {
   "cell_type": "code",
   "execution_count": 17,
   "metadata": {},
   "outputs": [],
   "source": [
    "#TODO: Declare your HP ranges, metrics etc.\n",
    "hyperparameter_ranges = {\n",
    "    \"learning_rate\": ContinuousParameter(0.001, 0.1),\n",
    "    \"batch_size\": CategoricalParameter([32, 64, 128, 256, 512]),\n",
    "}\n",
    "\n",
    "role = sagemaker.get_execution_role()\n",
    "bucket = \"sagemaker-us-east-2-285132913936\"\n",
    "\n",
    "objective_metric_name = \"Test Loss\"\n",
    "objective_type = \"Minimize\"\n",
    "metric_definitions = [{\"Name\": \"Test Loss\", \"Regex\": \"Testing Loss: ([0-9\\\\.]+)\"}]"
   ]
  },
  {
   "cell_type": "code",
   "execution_count": 18,
   "metadata": {},
   "outputs": [],
   "source": [
    "#TODO: Create estimators for your HPs\n",
    "\n",
    "# estimator = # TODO: Your estimator here\n",
    "\n",
    "# tuner = # TODO: Your HP tuner here\n",
    "estimator = PyTorch(\n",
    "    entry_point=\"hpo.py\",\n",
    "    base_job_name='dog_classifier',\n",
    "    role=role,\n",
    "    framework_version=\"1.8.0\",\n",
    "    instance_count=1,\n",
    "    instance_type=\"ml.m5.xlarge\",\n",
    "    py_version='py3'\n",
    ")\n",
    "\n",
    "tuner = HyperparameterTuner(\n",
    "    estimator,\n",
    "    objective_metric_name,\n",
    "    hyperparameter_ranges,\n",
    "    metric_definitions,\n",
    "    max_jobs=2,\n",
    "    max_parallel_jobs=2,\n",
    "    objective_type=objective_type\n",
    ")"
   ]
  },
  {
   "cell_type": "code",
   "execution_count": 21,
   "metadata": {},
   "outputs": [
    {
     "name": "stdout",
     "output_type": "stream",
     "text": [
      ".....................................................................................................................................................................................................................................................................................................!\n"
     ]
    }
   ],
   "source": [
    "# TODO: Fit your HP Tuner\n",
    "os.environ['SM_CHANNEL_TRAINING']=f's3://{bucket}/dogImages/'\n",
    "os.environ['SM_MODEL_DIR']=f's3://{bucket}/dogImages/model/'\n",
    "os.environ['SM_OUTPUT_DATA_DIR']=f's3://{bucket}/dogImages/output/'\n",
    "tuner.fit({\"training\": f\"s3://{bucket}/dogImages/\"})\n"
   ]
  },
  {
   "cell_type": "code",
   "execution_count": 129,
   "metadata": {},
   "outputs": [
    {
     "name": "stdout",
     "output_type": "stream",
     "text": [
      "\n",
      "2022-01-11 01:43:07 Starting - Preparing the instances for training\n",
      "2022-01-11 01:43:07 Downloading - Downloading input data\n",
      "2022-01-11 01:43:07 Training - Training image download completed. Training in progress.\n",
      "2022-01-11 01:43:07 Uploading - Uploading generated training model\n",
      "2022-01-11 01:43:07 Completed - Training job completed\n"
     ]
    }
   ],
   "source": [
    "# TODO: Get the best estimators and the best HPs\n",
    "\n",
    "best_estimator = tuner.best_estimator()\n",
    "\n",
    "#Get the hyperparameters of the best trained model\n",
    "\n",
    "hyperparameters = {\"batch_size\": int(best_estimator.hyperparameters()['batch_size'].replace('\"', '')), \\\n",
    "                   \"learning_rate\": best_estimator.hyperparameters()['learning_rate']}"
   ]
  },
  {
   "cell_type": "markdown",
   "metadata": {},
   "source": [
    "## Model Profiling and Debugging\n",
    "TODO: Using the best hyperparameters, create and finetune a new model\n",
    "\n",
    "**Note:** You will need to use the `train_model.py` script to perform model profiling and debugging."
   ]
  },
  {
   "cell_type": "code",
   "execution_count": 130,
   "metadata": {},
   "outputs": [],
   "source": [
    "# TODO: Set up debugging and profiling rules and hooks\n",
    "rules = [\n",
    "    Rule.sagemaker(rule_configs.vanishing_gradient()),\n",
    "#     Rule.sagemaker(rule_configs.loss_not_decreasing()),\n",
    "    Rule.sagemaker(rule_configs.overfit()),\n",
    "    Rule.sagemaker(rule_configs.overtraining()),\n",
    "    Rule.sagemaker(rule_configs.poor_weight_initialization()),\n",
    "    ProfilerRule.sagemaker(rule_configs.ProfilerReport()),\n",
    "]\n",
    "\n",
    "hook_config = DebuggerHookConfig(\n",
    "    hook_parameters={\"train.save_interval\": \"1\",\n",
    "                     \"eval.save_interval\": \"1\"}\n",
    ")\n",
    "\n",
    "profiler_config = ProfilerConfig(\n",
    "    system_monitor_interval_millis=500, framework_profile_params=FrameworkProfile(num_steps=1)\n",
    ")\n",
    "\n",
    "\n"
   ]
  },
  {
   "cell_type": "code",
   "execution_count": 121,
   "metadata": {},
   "outputs": [],
   "source": [
    "# TODO: Create and fit an estimator\n",
    "\n",
    "estimator = PyTorch(\n",
    "    entry_point='train_model.py',\n",
    "    base_job_name='debug-profile',\n",
    "    role=role,\n",
    "    instance_count=1,\n",
    "    instance_type='ml.m5.xlarge',\n",
    "    framework_version='1.8.0',\n",
    "    py_version='py3',\n",
    "    hyperparameters=hyperparameters,\n",
    "    ## Debugger and Profiler parameters\n",
    "    rules = rules,\n",
    "    debugger_hook_config=hook_config,\n",
    "    profiler_config=profiler_config,\n",
    ")"
   ]
  },
  {
   "cell_type": "code",
   "execution_count": 122,
   "metadata": {},
   "outputs": [
    {
     "name": "stdout",
     "output_type": "stream",
     "text": [
      "Training jobname: debug-profile-2022-01-11-08-11-11-962\n",
      "Region: us-east-2\n",
      "[2022-01-11 08:11:12.463 ip-172-16-35-0:20812 INFO s3_trial.py:42] Loading trial debug-output at path s3://sagemaker-us-east-2-285132913936/debug-profile-2022-01-11-08-11-11-962/debug-output\n",
      "[2022-01-11 08:11:32.777 ip-172-16-35-0:20812 WARNING trial.py:148] Waiting to read collections files generated by the training job,from s3://sagemaker-us-east-2-285132913936/debug-profile-2022-01-11-08-11-11-962/debug-output/. If this has been a while, you might want to check that the trial is pointed at the right path.\n",
      "[2022-01-11 08:11:34.808 ip-172-16-35-0:20812 WARNING trial.py:148] Waiting to read collections files generated by the training job,from s3://sagemaker-us-east-2-285132913936/debug-profile-2022-01-11-08-11-11-962/debug-output/. If this has been a while, you might want to check that the trial is pointed at the right path.\n",
      "[2022-01-11 08:11:36.839 ip-172-16-35-0:20812 WARNING trial.py:148] Waiting to read collections files generated by the training job,from s3://sagemaker-us-east-2-285132913936/debug-profile-2022-01-11-08-11-11-962/debug-output/. If this has been a while, you might want to check that the trial is pointed at the right path.\n",
      "['CrossEntropyLoss_output_0', 'gradient/ResNet_fc.0.bias', 'gradient/ResNet_fc.0.weight', 'gradient/ResNet_fc.2.bias', 'gradient/ResNet_fc.2.weight', 'layer1.0.relu_input_0', 'layer1.0.relu_input_1', 'layer1.0.relu_input_2', 'layer1.1.relu_input_0', 'layer1.1.relu_input_1', 'layer1.1.relu_input_2', 'layer1.2.relu_input_0', 'layer1.2.relu_input_1', 'layer1.2.relu_input_2', 'layer2.0.relu_input_0', 'layer2.0.relu_input_1', 'layer2.0.relu_input_2', 'layer2.1.relu_input_0', 'layer2.1.relu_input_1', 'layer2.1.relu_input_2', 'layer2.2.relu_input_0', 'layer2.2.relu_input_1', 'layer2.2.relu_input_2', 'layer2.3.relu_input_0', 'layer2.3.relu_input_1', 'layer2.3.relu_input_2', 'layer3.0.relu_input_0', 'layer3.0.relu_input_1', 'layer3.0.relu_input_2', 'layer3.1.relu_input_0', 'layer3.1.relu_input_1', 'layer3.1.relu_input_2', 'layer3.2.relu_input_0', 'layer3.2.relu_input_1', 'layer3.2.relu_input_2', 'layer3.3.relu_input_0', 'layer3.3.relu_input_1', 'layer3.3.relu_input_2', 'layer3.4.relu_input_0', 'layer3.4.relu_input_1', 'layer3.4.relu_input_2', 'layer3.5.relu_input_0', 'layer3.5.relu_input_1', 'layer3.5.relu_input_2', 'layer4.0.relu_input_0', 'layer4.0.relu_input_1', 'layer4.0.relu_input_2', 'layer4.1.relu_input_0', 'layer4.1.relu_input_1', 'layer4.1.relu_input_2', 'layer4.2.relu_input_0', 'layer4.2.relu_input_1', 'layer4.2.relu_input_2', 'relu_input_0']\n",
      "0\n",
      "0\n"
     ]
    }
   ],
   "source": [
    "# TODO: Plot a debugging output.\n",
    "estimator.fit({\"training\": f\"s3://{bucket}/dogImages/\"}, wait=False)\n",
    "session = boto3.session.Session()\n",
    "region = session.region_name\n",
    "\n",
    "training_job_name = estimator.latest_training_job.name\n",
    "print(f\"Training jobname: {training_job_name}\")\n",
    "print(f\"Region: {region}\")\n",
    "\n",
    "from smdebug.trials import create_trial\n",
    "from smdebug.core.modes import ModeKeys\n",
    "\n",
    "trial = create_trial(estimator.latest_job_debugger_artifacts_path())\n",
    "\n",
    "\n",
    "print(trial.tensor_names())\n",
    "print(len(trial.tensor(\"CrossEntropyLoss_output_0\").steps(mode=ModeKeys.TRAIN)))\n",
    "print(len(trial.tensor(\"CrossEntropyLoss_output_0\").steps(mode=ModeKeys.EVAL)))"
   ]
  },
  {
   "cell_type": "markdown",
   "metadata": {},
   "source": [
    "**TODO**: Is there some anomalous behaviour in your debugging output? If so, what is the error and how will you fix it?  \n",
    "**TODO**: If not, suppose there was an error. What would that error look like and how would you have fixed it?"
   ]
  },
  {
   "cell_type": "code",
   "execution_count": 127,
   "metadata": {},
   "outputs": [
    {
     "name": "stdout",
     "output_type": "stream",
     "text": [
      "ProfilerConfig:{'S3OutputPath': 's3://sagemaker-us-east-2-285132913936/', 'ProfilingIntervalInMilliseconds': 500, 'ProfilingParameters': {'DataloaderProfilingConfig': '{\"StartStep\": 0, \"NumSteps\": 1, \"MetricsRegex\": \".*\", }', 'DetailedProfilingConfig': '{\"StartStep\": 0, \"NumSteps\": 1, }', 'FileOpenFailThreshold': '50', 'HorovodProfilingConfig': '{\"StartStep\": 0, \"NumSteps\": 1, }', 'LocalPath': '/opt/ml/output/profiler', 'PythonProfilingConfig': '{\"StartStep\": 0, \"NumSteps\": 1, \"ProfilerName\": \"cprofile\", \"cProfileTimer\": \"total_time\", }', 'RotateFileCloseIntervalInSeconds': '60', 'RotateMaxFileSizeInBytes': '10485760', 'SMDataParallelProfilingConfig': '{\"StartStep\": 0, \"NumSteps\": 1, }'}}\n",
      "s3 path:s3://sagemaker-us-east-2-285132913936/debug-profile-2022-01-11-08-11-11-962/profiler-output\n",
      "\n",
      "\n",
      "Profiler data from system is available\n",
      "select events:['total']\n",
      "select dimensions:['CPU', 'GPU']\n",
      "filtered_events:{'total'}\n",
      "filtered_dimensions:{'CPUUtilization-nodeid:algo-1'}\n"
     ]
    },
    {
     "data": {
      "text/html": [
       "\n",
       "\n",
       "\n",
       "\n",
       "\n",
       "\n",
       "  <div class=\"bk-root\" id=\"2511af2c-daec-4280-b349-5008bd81049e\" data-root-id=\"1555\"></div>\n"
      ]
     },
     "metadata": {},
     "output_type": "display_data"
    },
    {
     "data": {
      "application/javascript": [
       "(function(root) {\n",
       "  function embed_document(root) {\n",
       "    \n",
       "  var docs_json = {\"fc733313-bda5-444b-b345-d39e18f48c53\":{\"defs\":[],\"roots\":{\"references\":[{\"attributes\":{\"children\":[{\"id\":\"1554\"},{\"id\":\"1512\"}]},\"id\":\"1555\",\"type\":\"Row\"},{\"attributes\":{},\"id\":\"1534\",\"type\":\"SaveTool\"},{\"attributes\":{\"data\":{\"x\":{\"__ndarray__\":\"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\",\"dtype\":\"float64\",\"order\":\"little\",\"shape\":[2349]},\"y\":{\"__ndarray__\":\"AAAAAABcWECPwvUoXH9XQI/C9Shc/1ZAXY/C9ShQVkBwPQrXo7hXQB+F61G4dldAmpmZmZllVkCuR+F6FNJQQFK4HoXrQVdAAAAAAADAUkDD9Shcj5ZUQOF6FK5HnVVAw/UoXI8GVECPwvUoXMtWQEjhehSuC1VAAAAAAADAU0AAAAAAAEBVQFK4HoXrIVNAAAAAAADgU0DhehSuRw1UQAAAAAAAwFJAAAAAAAAgU0A+CtejcBlXQGZmZmZmUlNAuR6F61H4VEDXo3A9CntTQOF6FK5HVVVA4noUrkfRVECkcD0K10dUQPYoXI/C4VVAPgrXo3B5VUBcj8L1KIhWQK5H4XoUNlRAcD0K16P0VUB7FK5H4aZTQIXrUbgetVRAw/UoXI9+VUAK16NwPRJVQML1KFyP0lRArkfhehTiVEBcj8L1KPBWQD0K16Nw/VNA4noUrkchVEBSuB6F6ylTQJDC9Shc11ZApHA9Ctd7UkDsUbgehRtPQArXo3A9ilFAkML1KFxzUUAAAAAAAMBSQML1KFyPHlBAKVyPwvUsUEAUrkfhethUQGZmZmZmClVA4XoUrkfVVECuR+F6FIJTQI/C9Shcl1RAPgrXo3AxVEAUrkfhejxFQHE9CtejMERAMzMzMzNjOkAfhetRuN42QLgehetRKDZA16NwPQqXPUBSuB6F6zEyQPUoXI/C9S9AcT0K16NAQEA9CtejcE04QClcj8L1eENAcD0K16OwQkB6FK5H4dooQBSuR+F6lC5A4noUrkfJUEAUrkfheixJQM3MzMzMvExA9ihcj8KNRkDC9Shcj7JNQPYoXI/CfU1AwvUoXI/iRUCF61G4HrUyQDMzMzMzUylACtejcD0qOUBwPQrXo7A0QOtRuB6FKzNAhetRuB7tQED1KFyPwhUvQIXrUbgelTVAmpmZmZm5Q0AL16NwPQo2QPYoXI/C9S9AzMzMzMxcPEBcj8L1KJwwQNejcD0KtzdAcD0K16MYRUDhehSuR4lDQClcj8L1EEZAUrgehethP0BmZmZmZs5CQOtRuB6FmzZAUrgeheshMEAAAAAAAKA0QJqZmZmZ+VBAzczMzMxMNEBmZmZmZvYyQHE9CtejQDNAHoXrUbj+LEAehetRuD4rQOxRuB6F6y5AUrgeheuhNECkcD0K15MwQLgehetR6DdAcD0K16MwOECamZmZmbkwQM3MzMzMTDZA9ihcj8I1MkAVrkfheoQzQOtRuB6F6y5AAAAAAACgN0CuR+F6FN4xQKRwPQrXgzdAo3A9CtdDL0AehetRuB4xQBSuR+F6dDdAKVyPwvUYN0DiehSuR2EsQPYoXI/CZTlAU7geheuxO0A0MzMzM7M2QDMzMzMzcylAkML1KFzPKkCamZmZmRkoQHoUrkfhWi9AexSuR+EaPUAehetRuM45QBSuR+F6FDtAzczMzMzMKECPwvUoXA8qQClcj8L1qDVA9ihcj8KVKEC4HoXrUQgyQOF6FK5HISpACtejcD0qLkB7FK5H4ZoqQArXo3A9iihAAAAAAAAAAADXo3A9CtcDQFyPwvUoXN8/AAAAAAAAEkCPwvUoXI8oQI/C9ShcvzFAexSuR+F6I0DrUbgehesZQFyPwvUoXO8/FK5H4XoUAEAAAAAAAAAAAAAAAAAAAPg/AAAAAAAA4D8AAAAAAADwPwAAAAAAAAAAFK5H4XoUBEBcj8L1KJwZQGZmZmZmZgxA9ihcj8JlM0C4HoXrUbgVQK5H4XoUrvc/AAAAAAAA8D8AAAAAAAAAAK5H4XoUrv8/AAAAAAAAAAAAAAAAAAAAQAAAAAAAAOA/FK5H4XoUEkAAAAAAAEAYQI/C9ShczzNAPgrXo3BdNUCF61G4HgUeQHE9CtejUChAuB6F61GIOkAAAAAAAMA/QP///////zZAAAAAAAAA4D/Xo3A9CtcLQEfhehSuVzFAj8L1KFy3RECkcD0K18M6QMP1KFyPUkFAzczMzMw0QED2KFyPwvU7QHsUrkfh+jlA16NwPQqPR0BI4XoUroc6QPYoXI/CVTlAuR6F61H4RkBcj8L1KIxGQFyPwvUo5E5AmpmZmZmRQ0DsUbgehSNLQJqZmZmZuVBAZ2ZmZmYyVUBmZmZmZs5LQDQzMzMz0z9AAAAAAAB0U0DD9Shcj0I+QM3MzMzM5ExAwvUoXI9CTUCamZmZmSFQQGZmZmZmxklAPgrXo3B9SUDXo3A9Cpc9QHE9CtejyEVA4XoUrkeJS0C4HoXrUQBMQM3MzMzMsFBAAAAAAABwUUDWo3A9CidMQM3MzMzMjDtAUrgehevhQUAVrkfhethRQHoUrkfhElVAXI/C9SjUVkB6FK5H4apVQHsUrkfhtlVApHA9CtdXUUDXo3A9Cr9UQAAAAAAAIFhA61G4HoXTVkAUrkfheohTQKRwPQrXI1ZArkfhehRCVUBmZmZmZkpVQEjhehSuD1RAzMzMzMw8VEB7FK5H4cZVQD0K16NwNVVA7FG4HoX/UUCuR+F6FKpUQI/C9Shcl1ZAC9ejcD32VUDhehSuR3VUQIXrUbgeHVdANDMzMzMjV0BnZmZmZlJVQNejcD0Kz1NAcD0K16P4VUCkcD0K1+NVQOxRuB6Fc1VASOF6FK6HVUCF61G4HgVVQOxRuB6FF1RAzczMzMzMVEDYo3A9Co9UQIXrUbgehVVA16NwPQobU0Bcj8L1KChWQMP1KFyPvlRAzczMzMywVUCPwvUoXGdUQOxRuB6Fc1VAuB6F61GQVUCF61G4HhVWQAEAAAAAuFZAH4XrUbhSUkCZmZmZmSlRQHE9CtejKE9Aj8L1KFwHTUCamZmZmbFQQMP1KFyPCk5ASOF6FK7vTkAK16NwPQpPQClcj8L10FBAHoXrUbimTEC4HoXrUWRWQM3MzMzMFFRApHA9CtfnVUDXo3A9Cs9UQKRwPQrX31NAzczMzMw0TEAehetRuG5OQB+F61G4XktAehSuR+FCUECvR+F6FB5NQHE9Ctej/FFA4noUrkcpTUC4HoXrUQRRQBSuR+F6PFNA7FG4HoWDTkBwPQrXo0BOQD4K16NwxU1A4XoUrkcZTUCQwvUoXP9MQEjhehSu105AzMzMzMx4UUC4HoXrUUhQQClcj8L1cE9AuB6F61FwUkB7FK5H4VJWQOF6FK5HtVVAexSuR+FSVkApXI/C9dBVQHA9CtejGFZAzszMzMysVUAK16NwPfZWQM3MzMzMoFZA9Shcj8IhVUCuR+F6FPJWQEfhehSuJ1ZA9Shcj8JtVUBxPQrXo0BWQFyPwvUonFZAUrgehesNVkDrUbgehaNVQKRwPQrXs1hAmpmZmZlFWEBSuB6F651YQAAAAAAAoFhAAAAAAAB8WEDhehSuR4FYQKRwPQrXV1hAwvUoXI+iWECPwvUoXN9YQAAAAAAAfFhAZmZmZmbCWEAAAAAAAABZQK5H4XoUHlhAH4XrUbi+WEBmZmZmZoJYQK5H4XoUnlhA4XoUrkcdWECkcD0K1x9XQJDC9Shcv1hArkfhehReWEBxPQrXoxhYQD0K16NwzVdArkfhehQeWEAAAAAAAIhXQGZmZmZmAldA7FG4HoUXV0Bcj8L1KHxXQOF6FK5HGVdAKVyPwvXEU0Bcj8L1KPRRQLgehetRfFJAPQrXo3CtVECkcD0K1wNXQFK4HoXr6VZAH4XrUbhaWECkcD0K18NXQDQzMzMzJ1dAKVyPwvXATkAAAAAAAEBRQLgehetRaE9AhetRuB4FSUA+CtejcH1KQAAAAAAAEExAhutRuB5FSUDD9ShcjwJJQHsUrkfh+klAPQrXo3C9SEAfhetRuL5KQKNwPQrXQ0lAAAAAAABASUAfhetRuL5JQB+F61G4/klArkfhehSOS0Bcj8L1KJRJQKRwPQrXw0pAwvUoXI/CSUBdj8L1KARKQD0K16Nw/UlAw/UoXI9CSkDiehSuRwFJQOF6FK5HSUpAo3A9CtdDSkDD9Shcj8JJQChcj8L1+EtAmpmZmZnhQUAAAAAAAFhBQOF6FK5HYUFAXI/C9SiMQUBcj8L1KARKQAAAAAAAgElAUrgehespSkDC9ShcjwJJQAAAAAAAQElAUrgehesZTkAfhetRuH5JQOJ6FK5HAUlA9ihcj8J1SUDiehSuRwFJQNejcD0Kz0lA4XoUrkeBSUB7FK5H4XpKQB6F61G4vkhAhetRuB5FSkCamZmZmUlMQMP1KFyPgklAXI/C9Si8SUBbj8L1KExJQHoUrkfhOklAXI/C9ShMSkD//////z9JQIXrUbgeBUpA4noUrkdBSUA+CtejcIVKQK5H4XoUDk5AXI/C9ShESkD2KFyPwmFRQArXo3A9ykpAAAAAAABASUA+CtejcIVDQOJ6FK5HmURAFK5H4Xr8R0CG61G4HsVIQAAAAAAAAEpAUrgehet5SUBSuB6F64lQQML1KFyPgklAH4XrUbi+SEDD9Shcj0JJQD4K16NwvUlA2KNwPQp3SkA+CtejcP1IQD0K16NwvUlA4XoUrkfBSEAfhetRuEZJQAAAAAAAaE5AXI/C9Si8SkDrUbgehRtJQKVwPQrXw0lAFK5H4Xo8SkCkcD0K18NJQFyPwvUovElAAAAAAAD8U0Bcj8L1KDxKQM3MzMzM2FFAwvUoXI8iVEBSuB6F6+lLQIbrUbgeeVJA9ihcj8I9U0A9CtejcBVSQNejcD0Kr01AwvUoXI+CSUCkcD0K14NJQFyPwvUo/ElACtejcD1yQkBmZmZmZl5CQJmZmZmZMUVAhutRuB6lSEAzMzMzM8NJQOF6FK5HwUhASeF6FK4HSkA9CtejcH1JQB+F61G4xkhAH4XrUbg+SUDD9Shcj8JJQML1KFyPwkhAXI/C9ShUTUCF61G4HkVJQOF6FK5HQUlA16NwPQrnSEBmZmZmZnZKQOF6FK5HiUpAKVyPwvUISUAAAAAAAIBJQClcj8L1yElAXI/C9Sh8SUApXI/C9TBPQAAAAAAAAFFAwvUoXI/CSUAAAAAAAIBJQOF6FK5HCUpAw/UoXI8CSkDhehSuRwFKQAAAAAAAwElAHoXrUbg+SUDhehSuR0lKQIXrUbgebU5A16NwPQoPRkAAAAAAADhEQHE9CtejeEdAHoXrUbg2SUAehetRuL5JQKRwPQrXg0lAw/UoXI/CSUAAAAAAAMBIQFyPwvUofElAw/UoXI+STEApXI/C9chJQJqZmZmZOUhApHA9CtdDSkAfhetRuH5JQML1KFyPiklAw/UoXI8CSUA+CtejcIVJQAAAAAAAwEhAXI/C9SgESkAK16NwPUJJQM3MzMzMpE1AwvUoXI9KSkAAAAAAAEhJQAAAAAAAwElApHA9CtcDSkDC9ShcjwJKQAAAAAAAQEpAAAAAAABASUAK16NwPcpKQOJ6FK5HQUlAFK5H4XrMT0DhehSuR0FKQKRwPQrXQ0lAKVyPwvVAQkCZmZmZmRlDQOxRuB6Fm0ZAhetRuB7FSUAAAAAAAABJQB+F61G4fklAuB6F61G4SEDNzMzMzHRNQOF6FK5HQUlAXI/C9Si8SUDC9Shcj6pIQGdmZmZmRklAuB6F61EASUDC9Shcj0JKQIbrUbgehUhAwvUoXI+CSUBnZmZmZsZIQML1KFyPGk5APQrXo3DdUUA+CtejcP1JQAAAAAAAQElAH4XrUbh+SUA+CtejcI1JQLgehetR+ElA4noUrkdBSUA+CtejcH1JQFyPwvUoPEpASOF6FK7HSUDNzMzMzAhRQML1KFyPgklAuB6F61GASkDiehSuRwFJQOtRuB6FG0RArkfhehS2RECF61G4HsVJQB6F61G4/khAo3A9CtfDSEDiehSuR8FIQML1KFyPyk1AuB6F61EASkCamZmZmXlKQKRwPQrXg0lAexSuR+HWUkBmZmZmZgZLQBSuR+F6KFFAHoXrUbieUkAzMzMzM+NJQML1KFyPblJAAAAAAAC0VEBSuB6F60VUQCpcj8L1eE5A4XoUrkfBSUBnZmZmZoZJQML1KFyPQklAH4XrUbhGSkDhehSuR8FIQGdmZmZmBkpAAAAAAAAASUCPwvUoXD9NQHA9Ctej6EtAuB6F61GISkA9CtejcL1JQFyPwvUo/ElAw/UoXI9CSUA9CtejcAVKQFyPwvUoPElA7FG4HoVLQUBwPQrXo+BDQK5H4XoULkVAHoXrUbjmTUCF61G4HgVKQMT1KFyPgklAhutRuB6FSkBcj8L1KPxIQKNwPQrXw0lA4XoUrkeBSEDhehSuR4FJQAAAAAAAgElA4XoUrkdBSUBcj8L1KDhUQML1KFyPWktA61G4HoXLSkDC9Shcj8JIQHsUrkfhekpApHA9CtfDSEAfhetRuH5KQOF6FK5HAUlAw/UoXI+CSUDiehSuR8FJQITrUbge/UxAAAAAAADASEAAAAAAAEBLQAAAAAAAAElAAAAAAACAS0AAAAAAAEBJQCCF61G4PkpAAAAAAABASUDhehSuR0lKQAAAAAAAwEZAcD0K16PIRUCkcD0K1+tBQOJ6FK5HgUpAAAAAAACASEBmZmZmZkZKQB6F61G4PklAwvUoXI+CSUCG61G4HsVIQIXrUbgeRUlAAAAAAACASUDC9Shcj4JJQOxRuB6FG05AHoXrUbiOSkDC9ShcjwJJQOF6FK5HsUpAAAAAAACASEA+CtejcMVJQD4K16Nw/UhAexSuR+G6SkCF61G4HgVJQML1KFyPAkpAhetRuB5NTkDC9Shcj4JJQKRwPQrXQ0lAkML1KFw3TEAAAAAAAEBJQML1KFyPQkpAAAAAAAAASUAAAAAAAIBJQLgehetROEpAkML1KFw3SkBmZmZmZu5OQPYoXI/C9UpAexSuR+FaQ0DhehSuR8FEQLgehetRGEdAexSuR+H6SEAAAAAAAAhKQFyPwvUovElAhetRuB7FSkAfhetRuH5JQD4K16NwOVJAMzMzMzNjTUAAAAAAAJBKQGZmZmZmxkhAhetRuB7FSUB7FK5H4XpJQKVwPQrXA0lAAAAAAADASEAAAAAAAABKQKNwPQrXQ0lAPQrXo3AFSkCF61G4HkVJQOJ6FK5HgUtAwvUoXI8CSkAAAAAAAMBIQOJ6FK5HAUlA4XoUrkcBSkAAAAAAAABJQGZmZmZmxkpAAAAAAACASkCamZmZmQlKQAAAAAAAgEpAwvUoXI8iU0C5HoXrUYhOQHwUrkfhOktAXI/C9SjMSkCPwvUoXPdFQLgehetRFFJAZmZmZmY2U0BwPQrXo8xQQOF6FK5HiUlAXI/C9Si8SUAAAAAAAEhJQIXrUbge7UhA4noUrkcBSUAAAAAAAMBJQD4K16NwBUpApHA9CteDSEAAAAAAAAhKQIXrUbgeRUlAAAAAAACASUAAAAAAAABJQClcj8L1iEpAAAAAAADASECkcD0K10tKQAAAAAAAwEhApHA9CtfDSUAAAAAAAABJQAAAAAAAQEhApHA9CtdrS0CkcD0K18NJQOF6FK5HwUlAAAAAAACASUCG61G4HgVKQMP1KFyPgklAXY/C9Sh8SkAAAAAAAEBJQOF6FK5HQUlAFK5H4XoMR0CamZmZmcFCQML1KFyPEkRAj8L1KFzPUECQwvUoXKdLQKRwPQrXA0pAexSuR+E6SUDD9Shcj8JJQAAAAAAAwEhAUrgehes5SUAAAAAAAMBIQB+F61G4PkpA4XoUrkfBSEAehetRuIZJQI/C9Shct0lAexSuR+E6SkCG61G4HkVJQHsUrkfh+klAW4/C9Sg8SUDD9ShcjwJJQFyPwvUoPElAZ2ZmZmbGSUAehetRuH5JQKRwPQrXw0lAhetRuB4FSkClcD0K1wNKQAAAAAAAgElAw/UoXI9CSkDhehSuR0FJQAAAAAAAQEpAAAAAAAAASUCamZmZmblKQK5H4XoUtkdAHoXrUbimQ0DsUbgehVtEQIXrUbgeBUlAXI/C9Sh8SUDsUbgehRNOQAAAAAAAAE5AwvUoXI+CSUAAAAAAAIBIQArXo3A9iklAw/UoXI8CSUAehetRuP5KQMP1KFyPAklAPgrXo3A9SkAAAAAAAIBJQD4K16NwPUhApHA9CtdDSUDD9Shcj0JJQIXrUbgehUlA4noUrkdBSUBH4XoUrgdKQOF6FK5HQUlAAQAAAACYSUAAAAAAAEBJQD4K16NwLUtAHoXrUbi+SUClcD0K1wNJQKVwPQrXw0lAw/UoXI+CSkAzMzMzM7tJQJmZmZmZyUlAPQrXo3B9SUAAAAAAAOhQQK5H4XoUzkxAj8L1KFzfRUDsUbgehRNCQKNwPQrXC0FAPgrXo3C9RkAAAAAAAAhJQD4K16NwPUlAXI/C9ShMSkDC9Shcj0JJQPYoXI/CLVJAhetRuB5FSUDC9Shcj4JIQFyPwvUoPElAhetRuB5FSUAAAAAAAMBIQML1KFyPgklAwvUoXI/CSUCkcD0K1wNKQFK4HoXruVBAzczMzMw4VEDhehSuR0FJQIXrUbgeZU5AH4XrUbguUkAK16NwPXJKQOxRuB6Fr1JAmpmZmZkJU0CkcD0K159RQD4K16NwdUpAAAAAAADASEAAAAAAAIBMQKRwPQrX00xAwvUoXI8CSkA+CtejcD1KQMP1KFyPQklAAAAAAACASUDC9Shcj0JJQK5H4XoUHkNASOF6FK4vQ0AAAAAAALhJQKNwPQrXw0hAAAAAAACQTEBcj8L1KPxJQIbrUbgeRUlAHoXrUbg+SUA9CtejcP1IQKRwPQrXQ0lAHoXrUbj+SUBcj8L1KHxIQOxRuB6Fy0pAPQrXo3D9SEAAAAAAAMBPQAAAAAAAiElApHA9CtfDSUCkcD0K18NIQKRwPQrXw0lAwvUoXI+CSEA+CtejcP1KQML1KFyPwkhAAAAAAACAS0AAAAAAAABKQAAAAAAAwFFAZ2ZmZmbuT0D//////8dJQAAAAAAAAElAAAAAAACASkAAAAAAAEBJQB6F61G4fklA4noUrkdBSUAVrkfhejRLQML1KFyPwkVA9ihcj8K1RkAAAAAAAMBIQD4K16NwfUpAAAAAAAAASkDC9Shcj0JKQD4K16NwPUlAhetRuB7FSUCkcD0K10NIQNejcD0KP0pASOF6FK6HSUCkcD0K1wNKQLgehetRKE1ApHA9CtdDSUAAAAAAAMBJQKRwPQrXC0pAXI/C9Sg8SUCkcD0K1wNKQHsUrkfh+klAehSuR+HCSUDiehSuR0FJQML1KFyPQkpA61G4HoVbTECamZmZmXlLQML1KFyPAkpAAAAAAABASUCF61G4HgVKQHA9CtejOEpAhetRuB7FSUCkcD0K18NJQAAAAAAACEtAmpmZmZm5SEAUrkfhepxGQFyPwvUoBEJA16NwPQrnRkB6FK5H4fpIQKRwPQrXQ0lAAAAAAACASUDC9Shcj4JJQOJ6FK5HQUlA7FG4HoVLSUDiehSuR0FJQBSuR+F6HFBArkfhehTmS0B7FK5H4TpLQMP1KFyPAklAhetRuB7FSEDhehSuR8FIQOF6FK5HsUpAHoXrUbh+SUA9CtejcH1KQOF6FK5HAUlAcT0K16O4T0AAAAAAAHxQQHsUrkfhQkpAR+F6FK6HSEBI4XoUrkdKQAAAAAAAgElAw/UoXI+CSkCG61G4HnVKQKRwPQrXw0pAAAAAAAAASUAAAAAAAEBKQKRwPQrXE09ASOF6FK6HSkDhehSuR/FJQGZmZmZmLkJA16NwPQpnQkCF61G4HqVFQArXo3A9sk1ANDMzMzPHU0AAAAAAALBIQAAAAAAAGE1AuB6F61EUVEAAAAAAAIBOQHE9CtejOFBAj8L1KFxrU0AVrkfhehBUQClcj8L1cFBA7FG4HoXzSEBcj8L1KAxKQAAAAAAAwEhAR+F6FK4HSEBmZmZmZoZLQOF6FK5HIUxASOF6FK7HSUAAAAAAAMBJQAAAAAAAAEpAehSuR+G6SUClcD0K18NJQD0K16Nw5UhAhetRuB4FSkDiehSuR0FJQD4K16NwRUpAAAAAAAB4TUC4HoXrUYBKQAAAAAAAAEpApHA9CtfDSkBcj8L1KDxKQM3MzMzMJEhAcT0K16OwQUCQwvUoXK9EQML1KFyPQklAAAAAAADASUAAAAAAAOhMQML1KFyPQklACtejcD0SSUA+CtejcFVKQD4K16NwfUhAPgrXo3B9SkDC9Shcj4JIQIXrUbgehUpAAAAAAAAASUAehetRuNZOQKRwPQrXM1FA16NwPQo3SkCkcD0K1wNJQOF6FK5HuUpACtejcD1qSkAAAAAAAABJQMP1KFyPQklAAAAAAACASkAAAAAAAMBIQAAAAAAAgElA9ihcj8J1TUB7FK5H4QJPQLkehetRaElASOF6FK6HSkDhehSuR8FJQFyPwvUoPEpAw/UoXI+CSUBH4XoUrg9MQAAAAAAAAElAZmZmZmbmQUDrUbgehdtAQDMzMzMzM0VAmpmZmZkZRkCF61G4Ho1KQML1KFyPQklAPgrXo3C9SEBnZmZmZjZKQAAAAAAAQElApHA9CteDSUDhehSuR0FJQD0K16NwRUlAAAAAAAAATUDD9ShcjwJLQOF6FK5HQUlAhutRuB4FSkCkcD0K10NJQMP1KFyPSktAPQrXo3B9SUCF61G4HsVJQM3MzMzMhEhApHA9CteDSUAL16NwPbJNQNejcD0KR0lAexSuR+F6SkBI4XoUrvdKQMP1KFyPwklAC9ejcD2KSkA9CtejcH1JQHoUrkfhCkpAPQrXo3B9SUA+CtejcD1KQOtRuB6FW05AuB6F61FwRUDXo3A9Cq9BQEjhehSut0JAZ2ZmZmaGSUCkcD0K10NJQAAAAAAAQElAw/UoXI9CSkCF61G4HgVIQLgehetREE9AhetRuB4lUEDMzMzMzFxNQGZmZmZmBkpAwvUoXI+CSUDD9ShcjwJJQLgehetRgEtAHoXrUbi+SEAAAAAAAIBKQDMzMzMz40hAAAAAAACASkAAAAAAAEBJQKRwPQrXW0xArkfhehSOS0AAAAAAAIhJQD4K16NwPUlAPgrXo3CpUkA+CtejcMVPQM3MzMzMTExAhetRuB6FUkApXI/C9TBPQBSuR+F6tFBA9ihcj8IFVUAfhetRuDpUQI/C9Shcy1NAZmZmZmZGSkDC9Shcj0JJQIXrUbgeBUlApHA9Ctf7QkBH4XoUridFQBSuR+F6TEdAhetRuB4FSUBSuB6F64FMQClcj8L1cEtAAAAAAABASUAK16NwPVJKQML1KFyPgklAexSuR+E6SkAAAAAAAABJQB6F61G4vklA4noUrkdBSUDC9Shcj4pJQJqZmZmZuUlAXI/C9Sh0VEA9CtejcBlQQOJ6FK5HsUpAH4XrUbj+SEA+CtejcD1KQD4K16Nw/UpAcD0K16NwUEAAAAAAAABJQD4K16Nw/UlA4noUrkdBSUAfhetRuEJRQLgehetR6E9AH4XrUbh+S0D2KFyPwhVKQGZmZmZmBkpApHA9CtfDSUDhehSuR0lKQBSuR+F6jEZAZmZmZmZOR0DNzMzMzORFQEjhehSuT0pAwvUoXI8CSkA+CtejcD1KQHsUrkfh+khAhetRuB6FSUAAAAAAAABJQAAAAAAAQElAH4XrUbi+SECF61G4HgVKQOJ6FK5HQUhAhOtRuB6FS0AzMzMzM9tLQJqZmZmZOUlANDMzMzOLSkAfhetRuP5IQB6F61G4vklAj8L1KFx3SUCkcD0K14NKQOJ6FK5HwUhAPgrXo3A9SkDD9Shcj8JJQML1KFyPSkxA4XoUrkeBSUAAAAAAAIBLQOF6FK5HwUlAhutRuB7FSUCZmZmZmTlKQMP1KFyPgkpAHoXrUbi+SEA9CtejcIVKQAAAAAAAgElAj8L1KFzvS0DC9Shcj6JEQFyPwvUoxEdAAAAAAACASUCF61G4HsVIQHsUrkfh+khAehSuR+H6SkAAAAAAAEBJQLgehetRAElApHA9CtcDSUDD9Shcj2pOQB+F61G4dkhAj8L1KFwPS0AAAAAAAMBIQNejcD0KJ0pAAAAAAADASEDC9Shcj0JKQML1KFyPwkhAH4XrUbh+SkAzMzMzM/tJQB6F61G4hkxAAAAAAACAUUCjcD0K18tKQAAAAAAAwEhAPgrXo3DFSUAAAAAAAEBJQAAAAAAAQEtAAAAAAAAASUCamZmZmflPQNejcD0KP09AmpmZmZm5S0CkcD0K1xtSQOtRuB6FS0pAXI/C9SgsQUAVrkfhetRCQMzMzMzM7ENAFa5H4XqcSUDhehSuR4FJQOF6FK5HwUhAPQrXo3DFSkBmZmZmZkZIQPUoXI/C5VRAR+F6FK73S0CF61G4Hk1KQITrUbgeBUlArkfhehQqUkAoXI/C9TBNQIXrUbgeoVBASOF6FK7TUkBwPQrXo6RUQHsUrkfhUkxAkML1KFyHTkB7FK5H4epKQOJ6FK5HCUpAAAAAAAAASUCuR+F6FPZJQOJ6FK5HQUlAwvUoXI9CSkAAAAAAAMBIQML1KFyPQkpApHA9CtfDSUCkcD0K18NKQClcj8L1ME9AuB6F61FISkDiehSuR8FJQD4K16Nw/UlA4noUrkdBSUDiehSuR8FJQB6F61G4fkVA7FG4HoUbREDNzMzMzIREQDMzMzMzK0pAcT0K16MgT0DC9Shcj8JJQOF6FK5HQUlAAAAAAAAISkAAAAAAAABJQNejcD0Kt0lAw/UoXI8CSUDD9ShcjwJJQIbrUbgehUlAo3A9CtfDSkCF61G4Hk1NQAAAAAAAAEpAAAAAAACASEDC9Shcj4JKQP//////f0lAw/UoXI/CSUDhehSuR0FJQFyPwvUozE1ASOF6FK4DUUBcj8L1KPxIQBSuR+F63E1APQrXo3CNS0C4HoXrUYBKQB+F61G4/klAmZmZmZnJSUAfhetRuL5JQIbrUbgexUlAPQrXo3C9SUAVrkfhesRGQGZmZmZmxkFAj8L1KFyvREDhehSuR4lMQIXrUbgeBUlAuR6F61H4SUBcj8L1KMRJQML1KFyPAklAw/UoXI9CSUAfhetRuL5IQMP1KFyPwklAw/UoXI9CSUDiehSuRwlJQHoUrkfhJlFAXI/C9SjESUCkcD0K18NJQB+F61G4PklAAAAAAAAASUCF61G4HoVJQB6F61G4fklAPgrXo3B9SkC4HoXrUXhKQOF6FK5HAUlAw/UoXI9aTEAehetRuD5LQAAAAAAAAEpAhetRuB7FSUDD9Shcj4JJQAAAAAAAyElAPgrXo3D9SUCF61G4HoVJQB6F61G4vkhAwvUoXI8CSkAAAAAAAEBOQB+F61G4FkZAAAAAAAAARUBmZmZmZu5BQFyPwvUozElAH4XrUbj+SUCuR+F6FA5JQClcj8L1yEpAXI/C9Sj8SEDhehSuR8FJQAAAAAAAQElAUrgehev5TUDiehSuR8FJQOJ6FK5HAUlAAAAAAACASUCG61G4HoVIQFyPwvUoTEpA4XoUrkdJSkApXI/C9XBSQB+F61G49khAcD0K16PQSkAehetRuL5IQArXo3A9okpA4XoUrkfBSUDiehSuR8FJQAAAAAAAQElAAAAAAAAAS0DiehSuR4FJQHsUrkfh+kpAH4XrUbhKU0AAAAAAAMBOQOJ6FK5HQUlAZmZmZmaOUkCF61G4Hg1SQJmZmZmZ2UhA16NwPQrPT0DC9Shcj4JQQML1KFyPckpAAAAAAADgSkAehetRuL5IQB6F61G4TkpAhetRuB4FSUDhehSuRwFKQOJ6FK5HgUhA16NwPQr/SUAAAAAAAIBJQIXrUbgeBUlAmpmZmZm5SUA+CtejcE1JQB6F61G4vkhAwvUoXI/CSUDC9Shcj8JIQFyPwvUoPEpAwvUoXI/CSEAehetRuIZJQKRwPQrXQ0lAAAAAAACISUAAAAAAAMBIQAAAAAAAwElAj8L1KFzfSUAAAAAAAMhJQOJ6FK5HQUlAmpmZmZm5SkDiehSuRwFJQAAAAAAAgEpAHoXrUbi+SUDC9Shcj4JJQFyPwvUovElAwvUoXI86RUB7FK5H4SpEQNejcD0KN0dA4noUrkexSUAAAAAAAMBIQHsUrkfhuklAcD0K16MYSUAfhetRuP5JQAAAAAAAAElAHoXrUbg+SkCF61G4HoVJQB+F61G4IlJAAAAAAADASEAAAAAAAEBJQML1KFyPwkhAAAAAAADYSUAehetRuL5JQOF6FK5HwUpAHoXrUbj+SEBcj8L1KARKQMP1KFyPgklAkML1KFz3SkA+CtejcP1IQB6F61G4hklA4noUrkcBSUA+CtejcH1KQFK4HoXr+UlAXI/C9Sh8SkAAAAAAAIBJQFyPwvUoTEtAXI/C9Si8SUDXo3A9Cg9JQHsUrkfhekJAuB6F61HwQUD2KFyPwgVHQGZmZmZmhklAwvUoXI9CSUC4HoXrUehLQAAAAAAAwEhAFK5H4XpMSUBcj8L1KDxJQAAAAAAAgEpASOF6FK6PSEAAAAAAAIBIQB+F61G4PklAHoXrUbi+SUDC9Shcj4JIQClcj8L1kElAPgrXo3B9SUCF61G4HkVJQAAAAAAAwEhAH4XrUbg+SkAAAAAAAIBJQOJ6FK5HgUlAHoXrUbh+SUAAAAAAAABKQD4K16NwPUlAH4XrUbi+SkAfhetRuMZJQOJ6FK5HwUlAwvUoXI9CSkCkcD0K14NJQML1KFyPwklAAAAAAACASUDC9ShcjwJKQHE9CtejUENA9ihcj8LVRED1KFyPwv1IQNejcD0Kl0lAPgrXo3D9SUBcj8L1KDxKQIXrUbgeTUpAAAAAAABEUkDhehSuR2FIQPUoXI/CRU9AAAAAAABASUDiehSuR0FJQAAAAAAAwEhAzczMzMwMSkD//////3dJQClcj8L1SEpA4XoUrkfZUkAAAAAAAFxQQAAAAAAAgElAKVyPwvXQU0DD9Shcj6JSQD0K16NwPUtA4XoUrkeBUkDNzMzMzARTQClcj8L1jFRAPgrXo3AVTkAAAAAAAABJQKRwPQrXg0pAwvUoXI/CSUBmZmZmZk5OQOJ6FK5HUUtAwvUoXI8CSkA+CtejcP1JQGZmZmZmTkZAmpmZmZk5QEAAAAAAADhFQFyPwvUo/EhAehSuR+FCSkAAAAAAAIBIQML1KFyP8ktAwvUoXI+aTEA9CtejcP1JQEjhehSuR0lAZ2ZmZmZGSkDhehSuR8FIQKRwPQrXQ0lA4noUrkfBSEDD9Shcj4JJQAAAAAAAQEhApXA9CteDSUBcj8L1KERNQAAAAAAAwEhA4XoUrkfBSkDC9Shcj0JJQAAAAAAASElAXI/C9Sg8SkDhehSuRwFJQD0K16NwhUlApHA9CteDSUA9CtejcL1JQD4K16NwXU9APQrXo3B9SUDD9Shcj8JKQB6F61G4/khAuB6F61FAS0Bcj8L1KDxKQD4K16NwxUlASOF6FK43QkBwPQrXo1hMQKRwPQrX40ZAMzMzMzNrTEDC9Shcj4JIQKRwPQrX+0pAMzMzMzMjSUAAAAAAAMhJQDMzMzMzc0lAZmZmZmbGSUBI4XoUrodJQKRwPQrXw0hAPgrXo3C9SUDNzMzMzAxOQKRwPQrXA0lAhutRuB6tSkAUrkfhenxJQKRwPQrXQ0lAAAAAAACASUA+CtejcAVKQChcj8L1cEpAhutRuB5FSUDMzMzMzDRKQOJ6FK5HQUlAj8L1KFzDUkDD9Shcj1JMQAAAAAAAgElAwvUoXI+CSkCF61G4HgVKQKRwPQrXQ0pAw/UoXI8CSkCZmZmZmdFJQD0K16NwvUNAzczMzMzMQkDXo3A9CpdJQKRwPQrXA0pAXI/C9Sg8SkBwPQrXo4hIQClcj8L1yElA//////+/SUBcj8L1KOxKQOF6FK5HAUlASOF6FK5HSkDhehSuR4FIQKRwPQrXp1BAFK5H4Xr0SUAzMzMzM4NIQAAAAAAAAElAAAAAAABISkDD9Shcj4JJQOF6FK5HuUpA4noUrkfBSECkcD0K10NJQFuPwvUofElAhOtRuB7NTEDWo3A9CkdJQGdmZmZmRkpAwvUoXI9CSkAAAAAAAABKQKRwPQrXw0lAwvUoXI/CSkDC9ShcjwpLQK5H4XoUClJAPgrXo3B9SUA+CtejcEVKQClcj8L1cE9AC9ejcD2KRUAVrkfhemxCQFK4HoXreVFAuB6F61GYS0A9CtejcP1JQEjhehSu50hA9ihcj8K1UECkcD0K10dSQJqZmZmZeUpAmpmZmZmpU0AzMzMzM5dTQB+F61G4tlJAj8L1KFzfSUCPwvUoXLdJQKRwPQrXw0pAAAAAAADASEBcj8L1KLxJQB6F61G4vkhAXY/C9Sj8SUCkcD0K10NNQGZmZmZmRkpApHA9CteDSUDXo3A9Cq9JQB+F61G4pktAAAAAAACASECkcD0K14NKQAAAAAAAQElAAAAAAABISkA9CtejcH1JQM3MzMzMNE1AuB6F61FISUAK16NwPQpLQML1KFyPgkpApHA9CtfjSEAAAAAAAEBDQM3MzMzM5ERA4XoUrkfBSECG61G4HkVKQD4K16NwfUhAPgrXo3DVSUBI4XoUrl9MQM3MzMzMhEpAAAAAAABASUCG61G4HsVKQFyPwvUofEhAxPUoXI9CSUDiehSuRwFJQAAAAAAAwElA4XoUrkcBSUAAAAAAAABKQAAAAAAAQE5AexSuR+EKSkAAAAAAAABKQAEAAAAAyEpA4XoUrkdBSUDiehSuR4lJQAAAAAAAwEhAMzMzMzOPUUDD9ShcjwpLQIXrUbgexUlAZmZmZmaqUUBwPQrXoxhOQAAAAAAAsEpAH4XrUbjOSkAehetRuP5IQAAAAAAAgEpAAAAAAAAASUA0MzMzMzNEQK5H4XoUHkRAwvUoXI9qSUDiehSuR9lNQAAAAAAAQEtAAAAAAAAASkBcj8L1KLxKQAAAAAAAQElA7FG4HoXLSEDD9Shcj4JJQAAAAAAAwElAC9ejcD2KSUAehetRuP5IQEjhehSuB0pA7FG4HoWjTEA+CtejcL1JQOF6FK5HAUpAAAAAAACASkAAAAAAAMBIQMP1KFyPgklA//////8/SUClcD0K1wNKQD0K16NwvUhAZ2ZmZmZGSkDD9Shcj5JNQM3MzMzMdEpAFa5H4XrsSkCkcD0K1wNKQAAAAAAAQElA4noUrkdJSkAAAAAAAEBJQITrUbgeDUhA16NwPQonQUAK16NwPZpCQKRwPQrXi0tApHA9CtdLSUDD9Shcj4JJQAAAAAAAwElAH4XrUbj+SEBcj8L1KPxJQML1KFyPgkhA//////+/SUAAAAAAAABJQAAAAAAASElAXI/C9SgkTkDC9Shcj8JJQGZmZmZmRklAexSuR+F6SkBbj8L1KLxJQB6F61G4hklAHoXrUbg+SUBxPQrXo3xRQJDC9Shcl0xAuB6F61EISkAAAAAAAABLQOF6FK5H8VRArkfhehSuTkClcD0K1wtLQOF6FK5HwUlAAAAAAABgUEAehetRuKZSQIXrUbgeFVJA4XoUrkfxVUBcj8L1KJhWQGZmZmZmdldArkfhehQeV0CkcD0K1+dSQMzMzMzMYFJAFK5H4XrMUkApXI/C9URUQK5H4XoUMlNAwvUoXI++VEBSuB6F6wFTQHE9CtejIFFApHA9CtcDSUDC9Shcj5pNQAAAAAAASEpAH4XrUbi+SEBmZmZmZs5JQD4K16NwvUlAXI/C9Sh8SUDiehSuRwFJQM3MzMzMzElAAAAAAAA4SUDC9Shcj4pJQLgehetR+EpASOF6FK5PTUCF61G4HgVJQML1KFyPSkpASOF6FK7HSUDhehSuR0FJQML1KFyPQklAH4XrUbh2SkAAAAAAAIBJQIbrUbgeBUpAAAAAAACASkDNzMzMzCRQQAAAAAAAgEpASOF6FK5HSkAAAAAAAABKQAAAAAAAgEpAZmZmZmYGQkCkcD0K18NDQAAAAAAAGEVAAAAAAACASkAehetRuP5IQGZmZmZmDk9AH4XrUbi+SUA9CtejcP1JQKVwPQrXg0lASOF6FK53SkAAAAAAAEBKQFK4HoXrDVBAHoXrUbg+TkD2KFyPwvVKQML1KFyPQklAXI/C9SgsTUAAAAAAAAhKQPYoXI/CtUpAPgrXo3AFSUBcj8L1KLxJQB6F61G4hklAw/UoXI9CSUDiehSuR4FKQAAAAAAAQEhAPgrXo3DFSkCQwvUoXLdMQKRwPQrX809AAAAAAACASUApXI/C9YhLQOJ6FK5HgUlApHA9CtcLSkDiehSuRwFKQIXrUbgeBUpAMzMzMzMLSUDXo3A9Ct9BQGZmZmZmFkRAkML1KFyPTUCkcD0K10NJQAAAAAAAQEpAAAAAAADASUC4HoXrUYBJQB6F61G4vklAC9ejcD0KSUB7FK5H4fpJQD0K16NwxUlApXA9CtfDSUDXo3A9Cq9RQML1KFyPgkpAAAAAAABAS0DiehSuR0FJQCCF61G4/klAAAAAAACASEDgehSuR0lKQAAAAAAAwElAPQrXo3AFSkA/CtejcD1KQHE9Ctej6E1AR+F6FK4PTECkcD0K1wNLQMP1KFyPAkpA4XoUrkdJSkCkcD0K1wNKQOJ6FK5HAUpApHA9CtdDSkDhehSuR0FJQEjhehSuh0pA16NwPQqPQ0DC9ShcjzJGQOxRuB6F00FAhetRuB5FSUClcD0K1wNKQAAAAAAAwElAAAAAAACAUEB7FK5H4aJQQM3MzMzMIFNAAAAAAACATUD///////9IQML1KFyPAk9AcD0K16MITUCuR+F6FEpSQB+F61G4PktA7FG4HoW7UkBmZmZmZtJSQK5H4XoUZlFAexSuR+FCTEBcj8L1KBRLQKRwPQrXA0lAAAAAAABMUEBH4XoUrt9LQOJ6FK5HCUpAPgrXo3A9SkB6FK5H4XpJQOJ6FK5HQUpASOF6FK4HS0CkcD0K18NJQML1KFyPCktAwvUoXI8CSkAAAAAAAIBNQD4K16NwNUtAexSuR+G6SkDC9Shcj4JKQCpcj8L1yElAUrgehesJRUCkcD0K12NEQEjhehSuN0lAAAAAAABASUDiehSuR0FJQF2PwvUovEpAAAAAAABQTkCuR+F6FHZJQM3MzMzMnEpAw/UoXI9CSkDD9Shcj8JJQFyPwvUo/ElAhutRuB4FSkBnZmZmZgZKQJqZmZmZcUlAhetRuB5FSUDrUbgehWNNQGdmZmZmxklAcT0K16MoSkB6FK5H4cJJQAAAAAAACEpA4noUrkdBSkBcj8L1KHxJQAAAAAAACEpAhetRuB7NSUBxPQrXo/hJQOF6FK5HUVBAw/UoXI+CSUB7FK5H4TpLQMP1KFyPQklApHA9CtcDS0AAAAAAAJBJQP//////r0lAcT0K16OAQ0DhehSuR8FJQAAAAAAAwEhAwvUoXI+KTECG61G4Hk1KQIXrUbgeRUpAPgrXo3D9SEDYo3A9CrdKQAAAAAAAAElAmZmZmZnJSUCkcD0K1wNKQD4K16Nw/UlApHA9CtcDSUDC9Shcj8JKQAvXo3A9sk9AZmZmZmZGSUDD9ShcjwJKQAAAAAAAQEpA4XoUrkfJSUCF61G4HsVKQKNwPQrXw0lApHA9CtczSkAAAAAAAMBJQOF6FK5HwUlAAAAAAAAYTkBJ4XoUrsdJQB+F61G47ktAw/UoXI+CSUAAAAAAAABKQIXrUbgeRUpAAAAAAACASkCkcD0K14tKQJqZmZmZmUNAhOtRuB5tQ0BmZmZmZmZKQMP1KFyPgklA4XoUrkdBSkCkcD0K1wNKQOJ6FK5HAUpAPQrXo3DFSUDhehSuR8FJQIXrUbgeRUlApHA9CtfDSUBnZmZmZsZJQGZmZmZmlkxArkfhehTOSkAAAAAAAIBJQAAAAAAAgElAH4XrUbiOSkCamZmZmblJQLgehetR0EpA4XoUrkeBSUBmZmZmZoZKQFyPwvUoPElASOF6FK5HSkAAAAAAAEBJQOJ6FK5HyUpAHoXrUbjGSUBmZmZmZoZLQB+F61G4ClVAH4XrUbhqVkAAAAAAAMBJQD4K16NwvUpA4XoUrkd5TEApXI/C9UxSQKRwPQrXq0VASOF6FK7PTkAK16NwPXJQQFyPwvUotE5AhetRuB7FSUBcj8L1KIRKQGZmZmZmxklApHA9CtfDSUDhehSuR0FJQClcj8L1SElAPgrXo3C9SUAfhetRuAZKQD4K16NwPUhA4noUrkcBSkCG61G4HoVKQIXrUbgexUhANDMzMzNrSkCkcD0K10tKQAAAAAAAgElAHoXrUbiGSUAAAAAAAIBJQEjhehSuB0pAuB6F61GASUAfhetRuL5KQGZmZmZmRklAwvUoXI8CSkCkcD0K10NJQEjhehSuh0pAAAAAAACASkCuR+F6FCZKQKRwPQrXM0pAAAAAAABASkDC9Shcj0JJQB+F61G4LktArkfhehT2R0BmZmZmZuY/QI/C9ShcR0NA4noUrkcBSUAAAAAAAMBIQOJ6FK5HwUhAhetRuB7FSkDiehSuR8FIQD4K16NwfUpAAAAAAACASEB6FK5H4YJKQML1KFyPQklA4XoUrkfRSUCjcD0K10NJQD4K16NwhUpAPgrXo3C9SEDXo3A9CmdLQML1KFyPwkhA16NwPQoXS0CQwvUoXPdJQOF6FK5HUUpAAQAAAAAISkAL16NwPcpRQMP1KFyPAklAw/UoXI8CSkCkcD0K10NJQD4K16NwfUpAAAAAAAAASkAfhetRuL5KQMP1KFyPgklAw/UoXI+CSkAAAAAAAEBKQKRwPQrXi0pA16NwPQpfQ0DYo3A9Ck9CQHA9Ctej+EZAwvUoXI8CSUAAAAAAAABJQOJ6FK5HgUpAAAAAAAD4SUAAAAAAAABLQD4K16NwfUhApHA9CtfDSkBmZmZmZkZKQCpcj8L1SEhApHA9CtdDSUB7FK5H4bpKQOJ6FK5HAUlAhetRuB6FSUBcj8L1KPxJQIXrUbgezUlASOF6FK5XSkBnZmZmZsZJQB+F61G4BkpAPQrXo3D9SUBmZmZmZgZKQAAAAAAACElAAAAAAADASUAAAAAAAMBJQML1KFyPgkpApHA9CtcDS0DsUbgehUtLQAAAAAAAQElAAAAAAACISkAAAAAAAEBJQD4K16Nw/UpACtejcD0aRUAUrkfhekxDQOJ6FK5HMUVA4XoUrkdJSkBwPQrXo7hJQB6F61G4fktA4noUrkdBSUCF61G4Hs1JQOJ6FK5HwUhApHA9CtfLSUBmZmZmZoZLQArXo3A9Wk1AwvUoXI/CSUDC9Shcj0pKQML1KFyPAklAexSuR+F6UUDhehSuR+VRQKRwPQrXz1BAwvUoXI/CSkB7FK5H4epSQI/C9Shc105AH4XrUbi+UkBxPQrXo4RSQFK4HoXr/VNASOF6FK4LUUCG61G4HsVKQFyPwvUofEpAFa5H4XrsSUABAAAAAMhJQJDC9Shc10lAAAAAAAAASkDsUbgehYtOQGhmZmZmhklAPQrXo3BFSkAK16NwPZpDQMP1KFyPgklAAAAAAACASUAUrkfhejRLQML1KFyPgklAXI/C9SjkR0AK16NwPZpEQK5H4XoU/kpA4XoUrkeRREDNzMzMzGRKQOJ6FK5HiUdA4noUrkeJR0DhehSuRxlFQOxRuB6FG0JAcT0K16OoR0Bcj8L1KNRFQDMzMzMz60VAzszMzMz0RkCQwvUoXDdIQFK4HoXrEUhAhetRuB59SEDiehSuR4FGQClcj8L1iEZAAAAAAABARkCkcD0K14NHQOJ6FK5HQUZAwvUoXI+CSEDNzMzMzNxDQAAAAAAAgE1A16NwPQpPSECF61G4HgVKQEjhehSuh0hAhetRuB7NR0AAAAAAAEBHQAAAAAAAQElASOF6FK6vSUA+CtejcAVIQBSuR+F65ENAPQrXo3DNR0DhehSuR9FIQNejcD0KB0dA16NwPQqPR0C4HoXrUchIQArXo3A9qkVAkML1KFyfS0CkcD0K18NFQNejcD0KD0hAXI/C9Sg8Q0CQwvUoXPdJQD4K16Nw7UtAwvUoXI/SQ0B7FK5H4bpGQJqZmZmZuUZAAAAAAABAR0AAAAAAAIBHQAAAAAAAGEZAPgrXo3B9SEAAAAAAAABGQAAAAAAAAEVAcD0K16PoTEDC9ShcjxpJQAAAAAAAgEdAwvUoXI9ySEApXI/C9ehIQFyPwvUofEdAAAAAAADASEDhehSuR8FIQLgehetRQEhAFK5H4XrMRkCkcD0K17tIQHsUrkfh+kJASOF6FK7HSUBxPQrXo+hEQKRwPQrXw0hAwvUoXI+CR0DsUbgehVtDQAAAAAAAQEJAPgrXo3A9SUAAAAAAAIBHQD4K16NwbUhApHA9CtfbRkCkcD0K15tHQFK4HoXrqURA9ihcj8I9R0AehetRuNZEQHsUrkfhUkdAuB6F61F4R0B7FK5H4bpGQOJ6FK5HAUVA7FG4HoXrSkC4HoXrURhKQB6F61G4NkhAmpmZmZkxSEBmZmZmZkZJQBSuR+F6zEdACtejcD0KSUDD9Shcj8JHQKRwPQrXA0hAFK5H4Xo0SUAK16NwPUpJQHsUrkfhPlBAwvUoXI+KSkBmZmZmZg5GQIXrUbgeHUVAehSuR+F6S0DXo3A9Ck9TQGZmZmZmKlBAzczMzMwcR0BxPQrXo4RSQD4K16NwKVBAPQrXo3C5UkCamZmZmTlPQIXrUbgehUNAHoXrUbi2R0AAAAAAAEBIQKRwPQrXg0JAwvUoXI9CRkA+CtejcPVGQML1KFyPgkZAAAAAAAAASEC4HoXrURBJQD4K16NwdUhAPgrXo3BVRkBSuB6F6+lFQOJ6FK5HAUdAmpmZmZkxSEDC9Shcj4JGQFK4HoXrCUhAPgrXo3B9SEDiehSuRwFIQLgehetR+EhAwvUoXI/aTUDhehSuR8lIQLgehetRMEZAUrgehetZQkBcj8L1KNRFQFyPwvUolEZAAAAAAAAAR0DC9ShcjwJIQJqZmZmZMUdASOF6FK7HREAK16NwPdJJQML1KFyPSklA2KNwPQqvR0BwPQrXoyBFQOJ6FK5HgUVApHA9CteDRUAAAAAAAABHQGZmZmZmhkVAj8L1KFwnR0Bcj8L1KHxGQFK4HoXr2U9AFK5H4Xq0RkCF61G4Hl1GQB+F61G4vkhAehSuR+FSRkA+CtejcL1GQK5H4XoURkhAexSuR+G6R0DC9Shcj4JIQAAAAAAAwEhAMzMzMzOjS0B7FK5H4VJJQAAAAAAAyEhAuB6F61EASUC4HoXrUXhHQDMzMzMzg0hAuB6F61EwSEAK16NwPRpDQAAAAAAAQElAhutRuB5FRkCkcD0K18tFQK5H4XoUZkpA7FG4HoXbREAzMzMzM8tHQFK4HoXroURAMzMzMzNrRkDD9ShcjwJIQJqZmZmZKUNAUrgehespR0B7FK5H4WpKQLgehetRWEZA9ihcj8LtTkAAAAAAAChHQOJ6FK5H8UdAmpmZmZkZRkCF61G4HkVIQHsUrkfh6kRA4noUrkcBR0AzMzMzMztJQFyPwvUoPEhAmpmZmZkBSEBSuB6F68lOQI/C9ShcJ0dArkfhehQ2SUD2KFyPwvVJQAAAAAAAwEZAXI/C9ShEREBwPQrXo9hEQEjhehSuh0hAAAAAAACARUC4HoXrUfBFQD4K16NwNUxApHA9CtcDSEAAAAAAAEBGQJqZmZmZWUZAcD0K16OIR0D2KFyPwm1IQOF6FK5HQUdA16NwPQovSEAyMzMzM8tHQIbrUbgexUhAKlyPwvUwSED2KFyPwn1HQChcj8L1GENAMzMzMzPTR0CQwvUoXN9CQHsUrkfheklAXY/C9ShUR0CPwvUoXJ9CQFyPwvUozElAmpmZmZnJUED2KFyPwi1GQIXrUbgehUxANDMzMzPrRECamZmZmX1RQD4K16NwEVRAZmZmZmYGS0CPwvUoXBtRQOxRuB6FT1FAhetRuB41VEDhehSuR8lGQIXrUbgexUZAAAAAAACAS0A9CtejcD1GQB6F61G4xkdAw/UoXI9CRUB7FK5H4XpIQMP1KFyPQkhAwvUoXI+KSEBnZmZmZvZIQOJ6FK5HeUdAXI/C9Si8R0AK16NwPXJPQHE9CtejqElA9ihcj8JNSEBcj8L1KHRCQOF6FK5H6UJA61G4HoUzQkDiehSuR0FHQPYoXI/CJUVA4noUrkcBSEC4HoXrUQhJQAAAAAAAwEJAAAAAAAAgS0Bcj8L1KNRHQIXrUbgexUlAAAAAAADAQUCF61G4Hs1IQOJ6FK5HwUZA4XoUrkdBRUAfhetRuBZGQD4K16NwzUVAPgrXo3B9RkCuR+F6FAZNQPYoXI/CpUVAMzMzMzNTSEAUrkfhemxGQD4K16NwxUVAwvUoXI/CR0Bcj8L1KLxGQBSuR+F6zEhAuB6F61F4SEDC9Shcj4JIQM3MzMzMlE5A4XoUrkfBR0BwPQrXo1BJQOF6FK5HgUlAwvUoXI8KRUBwPQrXo9hDQOxRuB6FI0JA4XoUrke5R0AzMzMzM2NDQKRwPQrXg0hAPgrXo3BFSEAAAAAAACBJQD4K16NwPUdAFK5H4XrkTkBI4XoUro9JQHsUrkfh6kRA4XoUrkfZREDMzMzMzKxIQB+F61G4/kJApHA9CteDRkDiehSuR8lIQHA9CtejgE1AmpmZmZm5RkDC9Shcj8JGQJqZmZmZUUdAPgrXo3BVRkAAAAAAAEBIQFK4HoXraUVA7FG4HoWbSEDhehSuR3lHQAAAAAAAgEhAKFyPwvWwTUDsUbgehUNIQB6F61G4tkhAcD0K16OIR0DXo3A9CgdKQAAAAAAAAEdApHA9CtfjQ0DNzMzMzIRDQNejcD0Kx0hAAAAAAABAQkCuR+F6FG5MQD4K16NwTUhArkfhehSORUBSuB6F6+lFQD4K16NwRUZAXI/C9Sh8RkBmZmZmZkZDQML1KFyPwkdAFa5H4Xq0SEDsUbgehdtBQLgehetR0EZAhetRuB59T0CamZmZmbFHQJDC9ShcJ0ZAFK5H4Xp0RkDhehSuR3lIQOJ6FK5HAUVAhetRuB6lRkDC9Shcj9pIQB6F61G4NkdAHoXrUbiWSUDD9Shcj3JLQLgehetR0EdA\",\"dtype\":\"float64\",\"order\":\"little\",\"shape\":[2349]}},\"selected\":{\"id\":\"1609\"},\"selection_policy\":{\"id\":\"1608\"}},\"id\":\"1544\",\"type\":\"ColumnDataSource\"},{\"attributes\":{\"data_source\":{\"id\":\"1544\"},\"glyph\":{\"id\":\"1547\"},\"hover_glyph\":null,\"muted_glyph\":null,\"view\":{\"id\":\"1551\"}},\"id\":\"1550\",\"type\":\"GlyphRenderer\"},{\"attributes\":{},\"id\":\"1609\",\"type\":\"Selection\"},{\"attributes\":{\"source\":{\"id\":\"1544\"}},\"id\":\"1551\",\"type\":\"CDSView\"},{\"attributes\":{\"data_source\":{\"id\":\"1544\"},\"glyph\":{\"id\":\"1546\"},\"hover_glyph\":null,\"muted_glyph\":null,\"view\":{\"id\":\"1549\"}},\"id\":\"1548\",\"type\":\"GlyphRenderer\"},{\"attributes\":{\"end\":1641889979.984539,\"start\":1641889480.484632},\"id\":\"1514\",\"type\":\"Range1d\"},{\"attributes\":{},\"id\":\"1533\",\"type\":\"ResetTool\"},{\"attributes\":{\"below\":[{\"id\":\"1522\"}],\"center\":[{\"id\":\"1525\"},{\"id\":\"1529\"}],\"height\":200,\"js_event_callbacks\":{\"selectiongeometry\":[{\"id\":\"1545\"}]},\"left\":[{\"id\":\"1526\"}],\"renderers\":[{\"id\":\"1548\"},{\"id\":\"1550\"}],\"title\":{\"id\":\"1600\"},\"toolbar\":{\"id\":\"1537\"},\"width\":1000,\"x_range\":{\"id\":\"1514\"},\"x_scale\":{\"id\":\"1518\"},\"y_range\":{\"id\":\"1516\"},\"y_scale\":{\"id\":\"1520\"}},\"id\":\"1513\",\"subtype\":\"Figure\",\"type\":\"Plot\"},{\"attributes\":{},\"id\":\"1532\",\"type\":\"PanTool\"},{\"attributes\":{},\"id\":\"1602\",\"type\":\"BasicTickFormatter\"},{\"attributes\":{\"source\":{\"id\":\"1544\"}},\"id\":\"1549\",\"type\":\"CDSView\"},{\"attributes\":{},\"id\":\"1600\",\"type\":\"Title\"},{\"attributes\":{},\"id\":\"1606\",\"type\":\"AllLabels\"},{\"attributes\":{\"fill_alpha\":{\"value\":0},\"line_width\":{\"value\":0},\"x\":{\"field\":\"x\"},\"y\":{\"field\":\"y\"}},\"id\":\"1547\",\"type\":\"Circle\"},{\"attributes\":{\"callback\":null,\"renderers\":[{\"id\":\"1550\"}],\"tooltips\":[[\"index\",\"$index\"],[\"(x,y)\",\"($x, $y)\"]]},\"id\":\"1552\",\"type\":\"HoverTool\"},{\"attributes\":{\"active_multi\":null,\"tools\":[{\"id\":\"1530\"},{\"id\":\"1531\"},{\"id\":\"1532\"},{\"id\":\"1533\"},{\"id\":\"1534\"},{\"id\":\"1535\"},{\"id\":\"1552\"}]},\"id\":\"1537\",\"type\":\"Toolbar\"},{\"attributes\":{\"line_color\":\"blue\",\"x\":{\"field\":\"x\"},\"y\":{\"field\":\"y\"}},\"id\":\"1546\",\"type\":\"Line\"},{\"attributes\":{},\"id\":\"1608\",\"type\":\"UnionRenderers\"},{\"attributes\":{\"axis_label\":\"Time in ms\",\"formatter\":{\"id\":\"1602\"},\"major_label_policy\":{\"id\":\"1603\"},\"ticker\":{\"id\":\"1523\"}},\"id\":\"1522\",\"type\":\"LinearAxis\"},{\"attributes\":{},\"id\":\"1523\",\"type\":\"BasicTicker\"},{\"attributes\":{\"axis\":{\"id\":\"1526\"},\"dimension\":1,\"ticker\":null,\"visible\":false},\"id\":\"1529\",\"type\":\"Grid\"},{\"attributes\":{\"args\":{\"div\":{\"id\":\"1512\"},\"s1\":{\"id\":\"1544\"}},\"code\":\"\\n                            console.log('Running CustomJS callback now.');\\n                            var inds = s1.selected.indices;\\n                            console.log(inds);\\n                            var line = \\\"<span style=float:left;clear:left;font_size=13px><b> Selected index range: [\\\" + Math.min.apply(Math,inds) + \\\",\\\" + Math.max.apply(Math,inds) + \\\"]</b></span>\\\\n\\\";\\n                            console.log(line)\\n                            var text = div.text.concat(line);\\n                            var lines = text.split(\\\"\\\\n\\\")\\n                            if (lines.length > 35)\\n                                lines.shift();\\n                            div.text = lines.join(\\\"\\\\n\\\");\"},\"id\":\"1545\",\"type\":\"CustomJS\"},{\"attributes\":{},\"id\":\"1518\",\"type\":\"LinearScale\"},{\"attributes\":{\"axis\":{\"id\":\"1522\"},\"ticker\":null,\"visible\":false},\"id\":\"1525\",\"type\":\"Grid\"},{\"attributes\":{},\"id\":\"1605\",\"type\":\"BasicTickFormatter\"},{\"attributes\":{},\"id\":\"1520\",\"type\":\"LinearScale\"},{\"attributes\":{\"axis_label\":\"CPUUtilization-nodeid:algo-1_total\",\"formatter\":{\"id\":\"1605\"},\"major_label_policy\":{\"id\":\"1606\"},\"ticker\":{\"id\":\"1527\"}},\"id\":\"1526\",\"type\":\"LinearAxis\"},{\"attributes\":{},\"id\":\"1603\",\"type\":\"AllLabels\"},{\"attributes\":{\"height\":100,\"height_policy\":\"fixed\",\"width\":250},\"id\":\"1512\",\"type\":\"Div\"},{\"attributes\":{\"children\":[{\"id\":\"1513\"}]},\"id\":\"1554\",\"type\":\"Column\"},{\"attributes\":{\"end\":102},\"id\":\"1516\",\"type\":\"Range1d\"},{\"attributes\":{},\"id\":\"1527\",\"type\":\"BasicTicker\"},{\"attributes\":{},\"id\":\"1530\",\"type\":\"CrosshairTool\"},{\"attributes\":{\"dimensions\":\"width\",\"overlay\":{\"id\":\"1536\"}},\"id\":\"1531\",\"type\":\"BoxSelectTool\"},{\"attributes\":{\"bottom_units\":\"screen\",\"fill_alpha\":0.5,\"fill_color\":\"lightgrey\",\"left_units\":\"screen\",\"level\":\"overlay\",\"line_alpha\":1.0,\"line_color\":\"black\",\"line_dash\":[4,4],\"line_width\":2,\"right_units\":\"screen\",\"syncable\":false,\"top_units\":\"screen\"},\"id\":\"1536\",\"type\":\"BoxAnnotation\"},{\"attributes\":{\"dimensions\":\"width\"},\"id\":\"1535\",\"type\":\"WheelZoomTool\"}],\"root_ids\":[\"1555\"]},\"title\":\"Bokeh Application\",\"version\":\"2.3.3\"}};\n",
       "  var render_items = [{\"docid\":\"fc733313-bda5-444b-b345-d39e18f48c53\",\"notebook_comms_target\":\"1611\",\"root_ids\":[\"1555\"],\"roots\":{\"1555\":\"2511af2c-daec-4280-b349-5008bd81049e\"}}];\n",
       "  root.Bokeh.embed.embed_items_notebook(docs_json, render_items);\n",
       "\n",
       "  }\n",
       "  if (root.Bokeh !== undefined) {\n",
       "    embed_document(root);\n",
       "  } else {\n",
       "    var attempts = 0;\n",
       "    var timer = setInterval(function(root) {\n",
       "      if (root.Bokeh !== undefined) {\n",
       "        clearInterval(timer);\n",
       "        embed_document(root);\n",
       "      } else {\n",
       "        attempts++;\n",
       "        if (attempts > 100) {\n",
       "          clearInterval(timer);\n",
       "          console.log(\"Bokeh: ERROR: Unable to run BokehJS code because BokehJS library is missing\");\n",
       "        }\n",
       "      }\n",
       "    }, 10, root)\n",
       "  }\n",
       "})(window);"
      ],
      "application/vnd.bokehjs_exec.v0+json": ""
     },
     "metadata": {
      "application/vnd.bokehjs_exec.v0+json": {
       "id": "1555"
      }
     },
     "output_type": "display_data"
    },
    {
     "name": "stdout",
     "output_type": "stream",
     "text": [
      "You will find the profiler report in s3://sagemaker-us-east-2-285132913936/debug-profile-2022-01-11-08-11-11-962/rule-output\n"
     ]
    }
   ],
   "source": [
    "# TODO: Display the profiler output\n",
    "from smdebug.profiler.analysis.notebook_utils.training_job import TrainingJob\n",
    "\n",
    "tj = TrainingJob(training_job_name, region)\n",
    "tj.wait_for_sys_profiling_data_to_be_available()\n",
    "from smdebug.profiler.analysis.notebook_utils.timeline_charts import TimelineCharts\n",
    "\n",
    "system_metrics_reader = tj.get_systems_metrics_reader()\n",
    "system_metrics_reader.refresh_event_file_list()\n",
    "\n",
    "view_timeline_charts = TimelineCharts(\n",
    "    system_metrics_reader,\n",
    "    framework_metrics_reader=None,\n",
    "    select_dimensions=[\"CPU\", \"GPU\"],\n",
    "    select_events=[\"total\"],\n",
    ")\n",
    "\n",
    "rule_output_path = estimator.output_path + estimator.latest_training_job.job_name + \"/rule-output\"\n",
    "print(f\"You will find the profiler report in {rule_output_path}\")"
   ]
  },
  {
   "cell_type": "markdown",
   "metadata": {},
   "source": [
    "## Model Deploying"
   ]
  },
  {
   "cell_type": "code",
   "execution_count": 125,
   "metadata": {},
   "outputs": [
    {
     "name": "stdout",
     "output_type": "stream",
     "text": [
      "------!"
     ]
    }
   ],
   "source": [
    "# TODO: Deploy your model to an endpoint\n",
    "model_location = \"s3://sagemaker-us-east-2-285132913936/pytorch-training-220111-0120-001-7d507401/output/model.tar.gz\"\n",
    "predictor=estimator.deploy(initial_instance_count=1, instance_type='ml.m5.large') # TODO: Add your deployment configuration like instance type and number of instances"
   ]
  },
  {
   "cell_type": "code",
   "execution_count": 134,
   "metadata": {},
   "outputs": [],
   "source": [
    "# Try predictor \n",
    "import sagemaker\n",
    "import boto3\n",
    "from sagemaker.tuner import CategoricalParameter, ContinuousParameter, HyperparameterTuner\n",
    "from sagemaker.pytorch import PyTorch\n",
    "from sagemaker import get_execution_role\n",
    "from sagemaker.debugger import Rule, DebuggerHookConfig, TensorBoardOutputConfig, CollectionConfig, ProfilerRule, rule_configs\n",
    "from sagemaker.debugger import ProfilerConfig, FrameworkProfile\n",
    "\n",
    "from sagemaker.pytorch import PyTorchModel\n",
    "from sagemaker.predictor import Predictor\n",
    "from sagemaker.pytorch.model import PyTorchPredictor\n",
    "\n",
    "jpeg_serializer = sagemaker.serializers.IdentitySerializer(\"image/jpeg\")\n",
    "json_deserializer = sagemaker.deserializers.JSONDeserializer()\n",
    "\n",
    "\n",
    "class ImagePredictor(Predictor):\n",
    "    def __init__(self, endpoint_name, sagemaker_session):\n",
    "        super(ImagePredictor, self).__init__(\n",
    "            endpoint_name,\n",
    "            sagemaker_session=sagemaker_session,\n",
    "            serializer=jpeg_serializer,\n",
    "            deserializer=json_deserializer,\n",
    "        )\n",
    "\n",
    "pytorch_predictor = PyTorchPredictor(endpoint_name = \"debug-profile-2022-01-11-14-05-09-139\", \n",
    "                                     sagemaker_session = sagemaker.session.Session(), \n",
    "                                    serializer=jpeg_serializer,\n",
    "                                    deserializer=json_deserializer\n",
    "                                    )\n",
    "\n",
    "# pytorch_model = PyTorchModel(model_data=model_location, role=role, py_version='py3',\n",
    "#                              framework_version='1.4',\n",
    "#                              predictor_cls=ImagePredictor)"
   ]
  },
  {
   "cell_type": "code",
   "execution_count": null,
   "metadata": {},
   "outputs": [
    {
     "name": "stdout",
     "output_type": "stream",
     "text": [
      "1\n",
      "2\n",
      "4\n"
     ]
    }
   ],
   "source": [
    "# TODO: Run an prediction on the endpoint\n",
    "import requests\n",
    "import torchvision.transforms as transforms\n",
    "from io import BytesIO\n",
    "from PIL import Image\n",
    "\n",
    "# request_dict={ \"url\": \"https://cdn1-www.cattime.com/assets/uploads/2011/12/file_2744_british-shorthair-460x290-460x290.jpg\" }\n",
    "print(1)\n",
    "request_dict={ \"url\": \"https://www.akc.org/wp-content/uploads/2016/06/German-Shepherd-Dog-laying-down-in-the-backyard.jpeg\" }\n",
    "image = requests.get(request_dict['url']).content# TODO: Your code to load and preprocess image to send to endpoint for prediction\n",
    "print(2)\n",
    "# test_transform = transforms.Compose([\n",
    "#     transforms.Resize((224, 224)),\n",
    "#     transforms.ToTensor(),\n",
    "#     ])\n",
    "# print(3)\n",
    "# image = Image.open(BytesIO(image))\n",
    "print(4)\n",
    "response = pytorch_predictor.predict(image)\n"
   ]
  },
  {
   "cell_type": "code",
   "execution_count": null,
   "metadata": {},
   "outputs": [],
   "source": [
    "# TODO: Remember to shutdown/delete your endpoint once your work is done\n",
    "predictor.delete_endpoint()"
   ]
  },
  {
   "cell_type": "code",
   "execution_count": null,
   "metadata": {},
   "outputs": [],
   "source": []
  }
 ],
 "metadata": {
  "instance_type": "ml.g4dn.xlarge",
  "kernelspec": {
   "display_name": "conda_pytorch_latest_p36",
   "language": "python",
   "name": "conda_pytorch_latest_p36"
  },
  "language_info": {
   "codemirror_mode": {
    "name": "ipython",
    "version": 3
   },
   "file_extension": ".py",
   "mimetype": "text/x-python",
   "name": "python",
   "nbconvert_exporter": "python",
   "pygments_lexer": "ipython3",
   "version": "3.6.13"
  }
 },
 "nbformat": 4,
 "nbformat_minor": 4
}
